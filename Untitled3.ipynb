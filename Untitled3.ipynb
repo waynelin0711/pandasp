{
 "cells": [
  {
   "cell_type": "code",
   "execution_count": 1,
   "id": "0978d7fc",
   "metadata": {
    "collapsed": true
   },
   "outputs": [
    {
     "data": {
      "text/plain": [
       "['False',\n",
       " 'None',\n",
       " 'True',\n",
       " 'and',\n",
       " 'as',\n",
       " 'assert',\n",
       " 'async',\n",
       " 'await',\n",
       " 'break',\n",
       " 'class',\n",
       " 'continue',\n",
       " 'def',\n",
       " 'del',\n",
       " 'elif',\n",
       " 'else',\n",
       " 'except',\n",
       " 'finally',\n",
       " 'for',\n",
       " 'from',\n",
       " 'global',\n",
       " 'if',\n",
       " 'import',\n",
       " 'in',\n",
       " 'is',\n",
       " 'lambda',\n",
       " 'nonlocal',\n",
       " 'not',\n",
       " 'or',\n",
       " 'pass',\n",
       " 'raise',\n",
       " 'return',\n",
       " 'try',\n",
       " 'while',\n",
       " 'with',\n",
       " 'yield']"
      ]
     },
     "execution_count": 1,
     "metadata": {},
     "output_type": "execute_result"
    }
   ],
   "source": [
    "import keyword\n",
    "keyword.kwlist"
   ]
  },
  {
   "cell_type": "code",
   "execution_count": 2,
   "id": "ce912353",
   "metadata": {},
   "outputs": [
    {
     "data": {
      "text/plain": [
       "\"i'm wayne\""
      ]
     },
     "execution_count": 2,
     "metadata": {},
     "output_type": "execute_result"
    }
   ],
   "source": [
    "\"i'm wayne\""
   ]
  },
  {
   "cell_type": "code",
   "execution_count": 3,
   "id": "337bc4e8",
   "metadata": {},
   "outputs": [
    {
     "data": {
      "text/plain": [
       "7"
      ]
     },
     "execution_count": 3,
     "metadata": {},
     "output_type": "execute_result"
    }
   ],
   "source": [
    "5+2"
   ]
  },
  {
   "cell_type": "code",
   "execution_count": 4,
   "id": "cca1e4e5",
   "metadata": {},
   "outputs": [
    {
     "data": {
      "text/plain": [
       "2.5"
      ]
     },
     "execution_count": 4,
     "metadata": {},
     "output_type": "execute_result"
    }
   ],
   "source": [
    "5/2"
   ]
  },
  {
   "cell_type": "code",
   "execution_count": 5,
   "id": "bf158c28",
   "metadata": {},
   "outputs": [
    {
     "data": {
      "text/plain": [
       "3.3333333333333335"
      ]
     },
     "execution_count": 5,
     "metadata": {},
     "output_type": "execute_result"
    }
   ],
   "source": [
    "10/3\n"
   ]
  },
  {
   "cell_type": "code",
   "execution_count": 6,
   "id": "88909659",
   "metadata": {},
   "outputs": [
    {
     "data": {
      "text/plain": [
       "3"
      ]
     },
     "execution_count": 6,
     "metadata": {},
     "output_type": "execute_result"
    }
   ],
   "source": [
    "10//3"
   ]
  },
  {
   "cell_type": "code",
   "execution_count": 7,
   "id": "9eee4bea",
   "metadata": {},
   "outputs": [
    {
     "data": {
      "text/plain": [
       "8"
      ]
     },
     "execution_count": 7,
     "metadata": {},
     "output_type": "execute_result"
    }
   ],
   "source": [
    "2**3"
   ]
  },
  {
   "cell_type": "code",
   "execution_count": 8,
   "id": "05a87061",
   "metadata": {},
   "outputs": [
    {
     "data": {
      "text/plain": [
       "False"
      ]
     },
     "execution_count": 8,
     "metadata": {},
     "output_type": "execute_result"
    }
   ],
   "source": [
    "5==2\n"
   ]
  },
  {
   "cell_type": "code",
   "execution_count": 9,
   "id": "0ba38d9e",
   "metadata": {},
   "outputs": [
    {
     "data": {
      "text/plain": [
       "True"
      ]
     },
     "execution_count": 9,
     "metadata": {},
     "output_type": "execute_result"
    }
   ],
   "source": [
    "5>2"
   ]
  },
  {
   "cell_type": "code",
   "execution_count": 10,
   "id": "fb13ad1b",
   "metadata": {},
   "outputs": [
    {
     "data": {
      "text/plain": [
       "True"
      ]
     },
     "execution_count": 10,
     "metadata": {},
     "output_type": "execute_result"
    }
   ],
   "source": [
    "5>=2\n"
   ]
  },
  {
   "cell_type": "code",
   "execution_count": 11,
   "id": "4c7fd157",
   "metadata": {},
   "outputs": [
    {
     "data": {
      "text/plain": [
       "True"
      ]
     },
     "execution_count": 11,
     "metadata": {},
     "output_type": "execute_result"
    }
   ],
   "source": [
    "5!=2\n"
   ]
  },
  {
   "cell_type": "code",
   "execution_count": 12,
   "id": "4f169522",
   "metadata": {},
   "outputs": [],
   "source": [
    "a=3\n"
   ]
  },
  {
   "cell_type": "code",
   "execution_count": 13,
   "id": "b99bdd13",
   "metadata": {},
   "outputs": [],
   "source": [
    "a=a+3"
   ]
  },
  {
   "cell_type": "code",
   "execution_count": 14,
   "id": "c9cf731b",
   "metadata": {},
   "outputs": [],
   "source": [
    "a+=3"
   ]
  },
  {
   "cell_type": "code",
   "execution_count": 15,
   "id": "c85c3f40",
   "metadata": {},
   "outputs": [],
   "source": [
    "a=a+3\n",
    "\n"
   ]
  },
  {
   "cell_type": "code",
   "execution_count": 16,
   "id": "35c92d95",
   "metadata": {},
   "outputs": [
    {
     "data": {
      "text/plain": [
       "12"
      ]
     },
     "execution_count": 16,
     "metadata": {},
     "output_type": "execute_result"
    }
   ],
   "source": [
    "a"
   ]
  },
  {
   "cell_type": "code",
   "execution_count": 17,
   "id": "1264a095",
   "metadata": {},
   "outputs": [],
   "source": [
    "a=3\n",
    "a=+3"
   ]
  },
  {
   "cell_type": "code",
   "execution_count": 18,
   "id": "c5c33683",
   "metadata": {},
   "outputs": [],
   "source": [
    "a+=3"
   ]
  },
  {
   "cell_type": "code",
   "execution_count": 19,
   "id": "47d6bfe7",
   "metadata": {},
   "outputs": [],
   "source": [
    "a=a+3"
   ]
  },
  {
   "cell_type": "code",
   "execution_count": 20,
   "id": "65433f86",
   "metadata": {},
   "outputs": [],
   "source": [
    "del a\n"
   ]
  },
  {
   "cell_type": "code",
   "execution_count": 21,
   "id": "b28de245",
   "metadata": {},
   "outputs": [
    {
     "ename": "NameError",
     "evalue": "name 'a' is not defined",
     "output_type": "error",
     "traceback": [
      "\u001b[1;31m---------------------------------------------------------------------------\u001b[0m",
      "\u001b[1;31mNameError\u001b[0m                                 Traceback (most recent call last)",
      "\u001b[1;32m<ipython-input-21-5130dcdb2fe3>\u001b[0m in \u001b[0;36m<module>\u001b[1;34m\u001b[0m\n\u001b[1;32m----> 1\u001b[1;33m \u001b[0ma\u001b[0m\u001b[1;33m==\u001b[0m\u001b[1;36m3\u001b[0m\u001b[1;33m\u001b[0m\u001b[1;33m\u001b[0m\u001b[0m\n\u001b[0m\u001b[0;32m      2\u001b[0m \u001b[0ma\u001b[0m\u001b[1;33m=\u001b[0m\u001b[0ma\u001b[0m\u001b[1;33m+\u001b[0m\u001b[1;36m3\u001b[0m\u001b[1;33m\u001b[0m\u001b[1;33m\u001b[0m\u001b[0m\n",
      "\u001b[1;31mNameError\u001b[0m: name 'a' is not defined"
     ]
    }
   ],
   "source": [
    "a==3\n",
    "a=a+3"
   ]
  },
  {
   "cell_type": "code",
   "execution_count": 22,
   "id": "ce66f8e5",
   "metadata": {},
   "outputs": [
    {
     "ename": "NameError",
     "evalue": "name 'a' is not defined",
     "output_type": "error",
     "traceback": [
      "\u001b[1;31m---------------------------------------------------------------------------\u001b[0m",
      "\u001b[1;31mNameError\u001b[0m                                 Traceback (most recent call last)",
      "\u001b[1;32m<ipython-input-22-51f021c83714>\u001b[0m in \u001b[0;36m<module>\u001b[1;34m\u001b[0m\n\u001b[1;32m----> 1\u001b[1;33m \u001b[0ma\u001b[0m\u001b[1;33m==\u001b[0m\u001b[1;36m3\u001b[0m\u001b[1;33m\u001b[0m\u001b[1;33m\u001b[0m\u001b[0m\n\u001b[0m",
      "\u001b[1;31mNameError\u001b[0m: name 'a' is not defined"
     ]
    }
   ],
   "source": [
    "a==3"
   ]
  },
  {
   "cell_type": "code",
   "execution_count": 23,
   "id": "b67634f6",
   "metadata": {},
   "outputs": [],
   "source": [
    "a=3"
   ]
  },
  {
   "cell_type": "code",
   "execution_count": 24,
   "id": "c569b6b0",
   "metadata": {},
   "outputs": [
    {
     "data": {
      "text/plain": [
       "3"
      ]
     },
     "execution_count": 24,
     "metadata": {},
     "output_type": "execute_result"
    }
   ],
   "source": [
    "a"
   ]
  },
  {
   "cell_type": "code",
   "execution_count": 28,
   "id": "cfd37737",
   "metadata": {},
   "outputs": [],
   "source": [
    "a+=3"
   ]
  },
  {
   "cell_type": "code",
   "execution_count": 29,
   "id": "ecbf8234",
   "metadata": {},
   "outputs": [
    {
     "data": {
      "text/plain": [
       "9"
      ]
     },
     "execution_count": 29,
     "metadata": {},
     "output_type": "execute_result"
    }
   ],
   "source": [
    "a"
   ]
  },
  {
   "cell_type": "code",
   "execution_count": 30,
   "id": "b6864954",
   "metadata": {},
   "outputs": [
    {
     "data": {
      "text/plain": [
       "9"
      ]
     },
     "execution_count": 30,
     "metadata": {},
     "output_type": "execute_result"
    }
   ],
   "source": [
    "a"
   ]
  },
  {
   "cell_type": "code",
   "execution_count": 33,
   "id": "f62c2062",
   "metadata": {},
   "outputs": [],
   "source": [
    "a/=3"
   ]
  },
  {
   "cell_type": "code",
   "execution_count": 34,
   "id": "3b159e70",
   "metadata": {},
   "outputs": [
    {
     "data": {
      "text/plain": [
       "9.0"
      ]
     },
     "execution_count": 34,
     "metadata": {},
     "output_type": "execute_result"
    }
   ],
   "source": [
    "a"
   ]
  },
  {
   "cell_type": "code",
   "execution_count": 35,
   "id": "1db8bb9d",
   "metadata": {},
   "outputs": [],
   "source": [
    "a**=3"
   ]
  },
  {
   "cell_type": "code",
   "execution_count": 36,
   "id": "cba86391",
   "metadata": {},
   "outputs": [
    {
     "data": {
      "text/plain": [
       "729.0"
      ]
     },
     "execution_count": 36,
     "metadata": {},
     "output_type": "execute_result"
    }
   ],
   "source": [
    "a"
   ]
  },
  {
   "cell_type": "code",
   "execution_count": 37,
   "id": "67f87366",
   "metadata": {},
   "outputs": [],
   "source": [
    "a=3\n",
    "a**=3"
   ]
  },
  {
   "cell_type": "code",
   "execution_count": 38,
   "id": "721c1ef5",
   "metadata": {},
   "outputs": [
    {
     "data": {
      "text/plain": [
       "27"
      ]
     },
     "execution_count": 38,
     "metadata": {},
     "output_type": "execute_result"
    }
   ],
   "source": [
    "a"
   ]
  },
  {
   "cell_type": "code",
   "execution_count": 39,
   "id": "1d12cf1e",
   "metadata": {},
   "outputs": [],
   "source": [
    "a=2\n",
    "a**=3"
   ]
  },
  {
   "cell_type": "code",
   "execution_count": 40,
   "id": "2ec457ea",
   "metadata": {},
   "outputs": [
    {
     "data": {
      "text/plain": [
       "8"
      ]
     },
     "execution_count": 40,
     "metadata": {},
     "output_type": "execute_result"
    }
   ],
   "source": [
    "a"
   ]
  },
  {
   "cell_type": "code",
   "execution_count": 41,
   "id": "9e17547f",
   "metadata": {},
   "outputs": [
    {
     "ename": "SyntaxError",
     "evalue": "invalid syntax (<ipython-input-41-da925fb1900d>, line 1)",
     "output_type": "error",
     "traceback": [
      "\u001b[1;36m  File \u001b[1;32m\"<ipython-input-41-da925fb1900d>\"\u001b[1;36m, line \u001b[1;32m1\u001b[0m\n\u001b[1;33m    print(holle world)\u001b[0m\n\u001b[1;37m                ^\u001b[0m\n\u001b[1;31mSyntaxError\u001b[0m\u001b[1;31m:\u001b[0m invalid syntax\n"
     ]
    }
   ],
   "source": [
    "print(holle world)"
   ]
  },
  {
   "cell_type": "code",
   "execution_count": 42,
   "id": "3d22fa3e",
   "metadata": {},
   "outputs": [
    {
     "name": "stdout",
     "output_type": "stream",
     "text": [
      "Holle world\n"
     ]
    }
   ],
   "source": [
    "print(\"Holle world\")"
   ]
  },
  {
   "cell_type": "code",
   "execution_count": 43,
   "id": "de3bf18a",
   "metadata": {},
   "outputs": [
    {
     "name": "stdout",
     "output_type": "stream",
     "text": [
      "hello world\n"
     ]
    }
   ],
   "source": [
    "print(\"hello\",\"world\")"
   ]
  },
  {
   "cell_type": "code",
   "execution_count": 44,
   "id": "397461b9",
   "metadata": {},
   "outputs": [
    {
     "ename": "SyntaxError",
     "evalue": "invalid syntax (<ipython-input-44-887b2cad2ac0>, line 2)",
     "output_type": "error",
     "traceback": [
      "\u001b[1;36m  File \u001b[1;32m\"<ipython-input-44-887b2cad2ac0>\"\u001b[1;36m, line \u001b[1;32m2\u001b[0m\n\u001b[1;33m    hello world\u001b[0m\n\u001b[1;37m          ^\u001b[0m\n\u001b[1;31mSyntaxError\u001b[0m\u001b[1;31m:\u001b[0m invalid syntax\n"
     ]
    }
   ],
   "source": [
    "input()\n",
    "hello world"
   ]
  },
  {
   "cell_type": "code",
   "execution_count": 45,
   "id": "923e8096",
   "metadata": {},
   "outputs": [
    {
     "name": "stdout",
     "output_type": "stream",
     "text": [
      "hello world!\n"
     ]
    },
    {
     "data": {
      "text/plain": [
       "'hello world!'"
      ]
     },
     "execution_count": 45,
     "metadata": {},
     "output_type": "execute_result"
    }
   ],
   "source": [
    "input()"
   ]
  },
  {
   "cell_type": "code",
   "execution_count": null,
   "id": "d6a82170",
   "metadata": {},
   "outputs": [],
   "source": [
    "input(\"what did you say\")"
   ]
  },
  {
   "cell_type": "code",
   "execution_count": 47,
   "id": "ee42fb91",
   "metadata": {},
   "outputs": [
    {
     "name": "stdout",
     "output_type": "stream",
     "text": [
      "gender: m\n",
      "age:18\n"
     ]
    },
    {
     "data": {
      "text/plain": [
       "'18'"
      ]
     },
     "execution_count": 47,
     "metadata": {},
     "output_type": "execute_result"
    }
   ],
   "source": [
    "input(\"gender: \")\n",
    "input(\"age:\")\n"
   ]
  },
  {
   "cell_type": "code",
   "execution_count": 48,
   "id": "72293580",
   "metadata": {},
   "outputs": [
    {
     "name": "stdout",
     "output_type": "stream",
     "text": [
      "my cat is youyes\n"
     ]
    },
    {
     "data": {
      "text/plain": [
       "'yes'"
      ]
     },
     "execution_count": 48,
     "metadata": {},
     "output_type": "execute_result"
    }
   ],
   "source": [
    "input(\"my cat is you\")\n"
   ]
  },
  {
   "cell_type": "raw",
   "id": "a67642bc",
   "metadata": {},
   "source": [
    "name=cat"
   ]
  },
  {
   "cell_type": "code",
   "execution_count": 49,
   "id": "c542fbd0",
   "metadata": {},
   "outputs": [
    {
     "ename": "NameError",
     "evalue": "name 'name' is not defined",
     "output_type": "error",
     "traceback": [
      "\u001b[1;31m---------------------------------------------------------------------------\u001b[0m",
      "\u001b[1;31mNameError\u001b[0m                                 Traceback (most recent call last)",
      "\u001b[1;32m<ipython-input-49-da00e692a617>\u001b[0m in \u001b[0;36m<module>\u001b[1;34m\u001b[0m\n\u001b[1;32m----> 1\u001b[1;33m \u001b[0mname\u001b[0m\u001b[1;33m==\u001b[0m\u001b[1;34m\"cat\"\u001b[0m\u001b[1;33m\u001b[0m\u001b[1;33m\u001b[0m\u001b[0m\n\u001b[0m\u001b[0;32m      2\u001b[0m \u001b[0mname\u001b[0m\u001b[1;33m.\u001b[0m\u001b[0mupper\u001b[0m\u001b[1;33m(\u001b[0m\u001b[1;33m)\u001b[0m\u001b[1;33m\u001b[0m\u001b[1;33m\u001b[0m\u001b[0m\n",
      "\u001b[1;31mNameError\u001b[0m: name 'name' is not defined"
     ]
    }
   ],
   "source": [
    "name==\"cat\"\n",
    "name.upper()"
   ]
  },
  {
   "cell_type": "code",
   "execution_count": 50,
   "id": "b4d21519",
   "metadata": {},
   "outputs": [
    {
     "data": {
      "text/plain": [
       "'CAT'"
      ]
     },
     "execution_count": 50,
     "metadata": {},
     "output_type": "execute_result"
    }
   ],
   "source": [
    "name=\"cat\"\n",
    "name.upper()"
   ]
  },
  {
   "cell_type": "code",
   "execution_count": 51,
   "id": "861ff350",
   "metadata": {},
   "outputs": [],
   "source": [
    "x=12345\n",
    "y=12345"
   ]
  },
  {
   "cell_type": "code",
   "execution_count": 53,
   "id": "088be645",
   "metadata": {},
   "outputs": [
    {
     "name": "stdout",
     "output_type": "stream",
     "text": [
      "id(x):  <class 'int'>\n"
     ]
    }
   ],
   "source": [
    "print(\"id(x): \",int)"
   ]
  },
  {
   "cell_type": "code",
   "execution_count": 54,
   "id": "517651f4",
   "metadata": {},
   "outputs": [
    {
     "name": "stdout",
     "output_type": "stream",
     "text": [
      "id(x):  2166948125328\n",
      "id(y):  2166948126128\n"
     ]
    }
   ],
   "source": [
    "print(\"id(x): \", id(x))\n",
    "print(\"id(y): \", id(y))"
   ]
  },
  {
   "cell_type": "code",
   "execution_count": 55,
   "id": "47f93535",
   "metadata": {},
   "outputs": [
    {
     "name": "stdout",
     "output_type": "stream",
     "text": [
      "id(x):  2166948125328\n",
      "id(y):  2166948126128\n"
     ]
    }
   ],
   "source": [
    "print(\"id(x): \", id(x))\n",
    "print(\"id(y): \", id(y))\n"
   ]
  },
  {
   "cell_type": "code",
   "execution_count": 57,
   "id": "b4545033",
   "metadata": {},
   "outputs": [
    {
     "name": "stdout",
     "output_type": "stream",
     "text": [
      "(a==2) and (b==3) =  True\n",
      "(a==2) and (b==2) =  True\n",
      "(a==2) & (b==3) =  True\n",
      "(a==2) & (b==2) =  True\n"
     ]
    }
   ],
   "source": [
    "a = 2\n",
    "b = 3\n",
    "\n",
    "print(\"(a==2) and (b==3) = \", (a==2) or (b==3))\n",
    "print(\"(a==2) and (b==2) = \", (a==2) | (b==2))\n",
    "print(\"(a==2) & (b==3) = \", (a==2) & (b==3))\n",
    "print(\"(a==2) & (b==2) = \", (a==2) | (b==2))"
   ]
  },
  {
   "cell_type": "code",
   "execution_count": 58,
   "id": "375e1522",
   "metadata": {},
   "outputs": [
    {
     "name": "stdout",
     "output_type": "stream",
     "text": [
      "(a==2) and (b==3) =  True\n",
      "(a==2) and (b==2) =  False\n",
      "(a==2) & (b==3) =  True\n",
      "(a==2) & (b==2) =  False\n"
     ]
    }
   ],
   "source": [
    "a = 2\n",
    "b = 3\n",
    "\n",
    "print(\"(a==2) and (b==3) = \", (a==2) and (b==3))\n",
    "print(\"(a==2) and (b==2) = \", (a==2) and (b==2))\n",
    "print(\"(a==2) & (b==3) = \", (a==2) & (b==3))\n",
    "print(\"(a==2) & (b==2) = \", (a==2) & (b==2))"
   ]
  },
  {
   "cell_type": "code",
   "execution_count": 59,
   "id": "81f44906",
   "metadata": {},
   "outputs": [
    {
     "name": "stdout",
     "output_type": "stream",
     "text": [
      "(a==2) or (not b==3) =  False\n"
     ]
    }
   ],
   "source": [
    "print(\"(a==2) or (not b==3) = \", (a==1) or (not b==3))"
   ]
  },
  {
   "cell_type": "code",
   "execution_count": 63,
   "id": "0ecb74a4",
   "metadata": {},
   "outputs": [
    {
     "name": "stdout",
     "output_type": "stream",
     "text": [
      "(a==2) or (not b==3) =  True\n"
     ]
    }
   ],
   "source": [
    "print(\"(a==2) or (not b==3) = \", (a==2) or( not b==3))"
   ]
  },
  {
   "cell_type": "code",
   "execution_count": null,
   "id": "cf53b434",
   "metadata": {},
   "outputs": [],
   "source": []
  }
 ],
 "metadata": {
  "kernelspec": {
   "display_name": "py38",
   "language": "python",
   "name": "py38"
  },
  "language_info": {
   "codemirror_mode": {
    "name": "ipython",
    "version": 3
   },
   "file_extension": ".py",
   "mimetype": "text/x-python",
   "name": "python",
   "nbconvert_exporter": "python",
   "pygments_lexer": "ipython3",
   "version": "3.8.10"
  }
 },
 "nbformat": 4,
 "nbformat_minor": 5
}
